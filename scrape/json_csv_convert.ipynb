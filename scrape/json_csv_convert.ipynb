{
 "cells": [
  {
   "cell_type": "code",
   "execution_count": 15,
   "metadata": {},
   "outputs": [
    {
     "name": "stdout",
     "output_type": "stream",
     "text": [
      "Data successfully converted to economists_v2.csv\n"
     ]
    }
   ],
   "source": [
    "# Import necessary libraries\n",
    "import json\n",
    "import pandas as pd\n",
    "\n",
    "# Load JSON data\n",
    "input_file = \"philosophers.json\"\n",
    "with open(input_file, \"r\", encoding=\"utf-8\") as file:\n",
    "    economists = json.load(file)\n",
    "\n",
    "# Convert JSON to DataFrame\n",
    "df = pd.DataFrame(economists)\n",
    "\n",
    "# Save to CSV\n",
    "output_file = \"economists_v2.csv\"\n",
    "df.to_csv(output_file, index=False, encoding=\"utf-8\")\n",
    "\n",
    "print(f\"Data successfully converted to {output_file}\")\n"
   ]
  }
 ],
 "metadata": {
  "kernelspec": {
   "display_name": "Python 3",
   "language": "python",
   "name": "python3"
  },
  "language_info": {
   "codemirror_mode": {
    "name": "ipython",
    "version": 3
   },
   "file_extension": ".py",
   "mimetype": "text/x-python",
   "name": "python",
   "nbconvert_exporter": "python",
   "pygments_lexer": "ipython3",
   "version": "3.9.6"
  }
 },
 "nbformat": 4,
 "nbformat_minor": 2
}
