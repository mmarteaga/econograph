{
 "cells": [
  {
   "cell_type": "code",
   "execution_count": 1,
   "metadata": {},
   "outputs": [
    {
     "name": "stdout",
     "output_type": "stream",
     "text": [
      "Original dataset size: 1348\n",
      "Filtered dataset size: 990\n",
      "Cleaned data saved to economists_v2_cleaned.csv\n"
     ]
    }
   ],
   "source": [
    "####################################################\n",
    "import pandas as pd\n",
    "\n",
    "# Load the CSV file into a DataFrame\n",
    "input_file = \"economists_v2.csv\"\n",
    "df = pd.read_csv(input_file)\n",
    "df_original = pd.read_csv(input_file)\n",
    "\n",
    "# Function to clean columns with similar issues\n",
    "def clean_column(df, column_name):\n",
    "    if column_name in df.columns:\n",
    "        df[column_name] = (\n",
    "            df[column_name]\n",
    "            .str.strip(\"[]\")  # Remove square brackets\n",
    "            .str.replace(\"'\", \"\")  # Remove single quotes\n",
    "            .str.replace(\",\", \";\")  # Replace commas with semicolons for clarity\n",
    "            .str.strip()  # Remove extra spaces\n",
    "        )\n",
    "\n",
    "# Columns to clean\n",
    "columns_to_clean = [\n",
    "    'education',\n",
    "    'alma_mater',\n",
    "    'influences',\n",
    "    'notable_ideas',\n",
    "    'contributions',\n",
    "    'doctoral_advisors',\n",
    "    'doctoral_students',\n",
    "    'image_url'\n",
    "]\n",
    "\n",
    "# Apply the cleaning function to each column\n",
    "for col in columns_to_clean:\n",
    "    clean_column(df, col)\n",
    "\n",
    "# Remove parentheses from the 'died' column\n",
    "if 'died' in df.columns:\n",
    "    df['died'] = df['died'].str.replace(r\"[()]\", \"\", regex=True)\n",
    "\n",
    "# Filter rows where the 'name' column is not null or empty\n",
    "df = df[df['name'].notnull() & (df['name'].str.strip() != \"\")]\n",
    "\n",
    "# Remove rows where both 'born' and 'died' columns are empty\n",
    "if 'born' in df.columns and 'died' in df.columns:\n",
    "    df = df[~(df['born'].isnull() & df['died'].isnull())]\n",
    "\n",
    "# Display the filtered DataFrame\n",
    "print(f\"Original dataset size: {len(df_original)}\")\n",
    "print(f\"Filtered dataset size: {len(df)}\")\n",
    "\n",
    "# Save the cleaned DataFrame to a new CSV file\n",
    "output_file = \"economists_v2_cleaned.csv\"\n",
    "df.to_csv(output_file, index=False, encoding=\"utf-8\")\n",
    "print(f\"Cleaned data saved to {output_file}\")\n"
   ]
  }
 ],
 "metadata": {
  "kernelspec": {
   "display_name": "Python 3",
   "language": "python",
   "name": "python3"
  },
  "language_info": {
   "codemirror_mode": {
    "name": "ipython",
    "version": 3
   },
   "file_extension": ".py",
   "mimetype": "text/x-python",
   "name": "python",
   "nbconvert_exporter": "python",
   "pygments_lexer": "ipython3",
   "version": "3.9.6"
  }
 },
 "nbformat": 4,
 "nbformat_minor": 2
}
